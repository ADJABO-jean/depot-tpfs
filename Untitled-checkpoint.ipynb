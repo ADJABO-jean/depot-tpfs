{
 "cells": [
  {
   "cell_type": "code",
   "execution_count": null,
   "id": "cad01309",
   "metadata": {},
   "outputs": [],
   "source": [
    "#Importation des modules \n",
    "import pandas as pd\n",
    "import mysql.connector\n",
    "from mysql.connector import Error\n",
    "\n",
    "#Chargement des données\n",
    "winequality-white = pd.read_excel(\"C:\\Users\\LAB-MND\\Desktop\\Nouveau dossier\\wine+quality\\winequality-white.csv\")\n",
    "print(winequality-white.columns)\n",
    "\n",
    "colonnes = ['fixed acidity', 'volatile acidity', 'citric acidity', 'residual sugar','chlorides', 'free sulfur dioxide', 'total sulfur', 'density','pH','sulphates','alcohol','quality']\n",
    "winequality-white.columns = colonnes \n",
    "print('----------------------------------------------------------------')\n",
    "print(winequality-white.columns)\n",
    "\n",
    "# Chargement du dataframe dans MYSQL\n",
    "try:\n",
    "    connexion = mysql.connector.connect(host='localhost',\n",
    "                                       database='jean',\n",
    "                                       user='root',\n",
    "                                       password='')\n",
    "    if connexion.is_connected():\n",
    "        print('Connexion à MySQL réussie')\n",
    "except Error as e:\n",
    "    print(f\"Erreur lors de la connexion à MySQL: {e}\")\n",
    "\n",
    "try:\n",
    "    cursor = connexion.cursor()\n",
    "\n",
    "    for i,row in winequality-white.iterrows():\n",
    "        sql = \"\"\"INSERT INTO culture_winequality-white (['fixed acidity', 'volatile acidity', 'citric acidity', 'residual sugar','chlorides', 'free sulfur dioxide', 'total sulfur', 'density','pH','sulphates','alcohol','quality']) VALUES   (%s,%s,%s,%s,%s,%s,%s,%s,%s,%s,%s,%s)\n",
    "        #print(sql)\n",
    "        cursor.execute(sql, tuple(row))\n",
    "\n",
    "    connexion.commit()\n",
    "    connexion.close()\n",
    "    print(\"DataFrame chargé dans MySQL avec succès!\")\n",
    "except Exception as e:\n",
    "    print(f\"Erreur lors du chargement du DataFrame dans MySQL: {e}\")\n",
    "\n",
    "\n",
    "\n"
   ]
  }
 ],
 "metadata": {
  "kernelspec": {
   "display_name": "Python 3 (ipykernel)",
   "language": "python",
   "name": "python3"
  },
  "language_info": {
   "codemirror_mode": {
    "name": "ipython",
    "version": 3
   },
   "file_extension": ".py",
   "mimetype": "text/x-python",
   "name": "python",
   "nbconvert_exporter": "python",
   "pygments_lexer": "ipython3",
   "version": "3.11.5"
  }
 },
 "nbformat": 4,
 "nbformat_minor": 5
}
